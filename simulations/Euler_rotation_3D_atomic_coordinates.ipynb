{
 "cells": [
  {
   "cell_type": "code",
   "execution_count": null,
   "id": "8b2e8c14",
   "metadata": {},
   "outputs": [],
   "source": [
    "#run in venv called 3DED on Erebor"
   ]
  },
  {
   "cell_type": "code",
   "execution_count": 1,
   "id": "e95785ec",
   "metadata": {},
   "outputs": [],
   "source": [
    "    import numbers\n",
    "    import os\n",
    "    import math\n",
    "    from pathlib import Path\n",
    "    import numpy as np\n",
    "    from ase.io import read\n",
    "    from ase.visualize import view\n",
    "    from ase.build import surface\n",
    "    from ase.atom import Atom\n",
    "    from ase.atoms import Atoms\n",
    "    from scipy import io as out"
   ]
  },
  {
   "cell_type": "code",
   "execution_count": 2,
   "id": "af1e2ca4",
   "metadata": {},
   "outputs": [],
   "source": [
    "def rotation_matrix(axis, theta):\n",
    "    \"\"\"\n",
    "    Return the rotation matrix associated with counterclockwise rotation about\n",
    "    the given axis by theta (degrees) which we convert into radians.\n",
    "    \"\"\"\n",
    "    theta = math.radians(theta)\n",
    "    axis = np.asarray(axis)\n",
    "    axis = axis / math.sqrt(np.dot(axis, axis))\n",
    "    a = math.cos(theta / 2.0)\n",
    "    b, c, d = -axis * math.sin(theta / 2.0)\n",
    "    aa, bb, cc, dd = a * a, b * b, c * c, d * d\n",
    "    bc, ad, ac, ab, bd, cd = b * c, a * d, a * c, a * b, b * d, c * d\n",
    "    return np.array([[aa + bb - cc - dd, 2 * (bc + ad), 2 * (bd - ac)],\n",
    "                     [2 * (bc - ad), aa + cc - bb - dd, 2 * (cd + ab)],\n",
    "                     [2 * (bd + ac), 2 * (cd - ab), aa + dd - bb - cc]])"
   ]
  },
  {
   "cell_type": "code",
   "execution_count": 38,
   "id": "1a1f9ace",
   "metadata": {},
   "outputs": [
    {
     "name": "stdout",
     "output_type": "stream",
     "text": [
      "C:\\Users\\Sauron\\hl585\\multem_stable\\helen_code acetaminophen_1998_monoclinic\n"
     ]
    }
   ],
   "source": [
    "cif_cell = 'C:\\\\Users\\\\Sauron\\\\hl585\\\\multem_stable\\\\helen_code\\\\acetaminophen_1998_monoclinic.cif' \n",
    "#cif_cell = 'C:\\\\Users\\\\Sauron\\\\hl585\\\\multem_stable\\\\helen_code\\\\mp-81_Au.cif' \n",
    "filepath = Path(cif_cell)\n",
    "name = filepath.stem\n",
    "path = filepath.parent\n",
    "\n",
    "cif_cell = read(cif_cell)\n",
    "print(path, name)"
   ]
  },
  {
   "cell_type": "code",
   "execution_count": 39,
   "id": "64bef607",
   "metadata": {},
   "outputs": [
    {
     "name": "stdout",
     "output_type": "stream",
     "text": [
      "Cell([[7.0939, 0.0, 0.0], [0.0, 9.2625, 0.0], [-1.55623145814634, 0.0, 11.552653056708477]])\n"
     ]
    }
   ],
   "source": [
    "sample_x = cif_cell.cell[0,0]\n",
    "sample_y = cif_cell.cell[1,1]\n",
    "sample_z = cif_cell.cell[2,2]\n",
    "print(cif_cell.cell)\n",
    "lx = [sample_x]\n",
    "ly = [sample_y]\n",
    "dz = [sample_z/2] # Preferably some fraction of the unit cell, or just a small distance\n",
    "#i'm just trying dz = 2, where dz = slice thickness\n",
    "dz = [2]\n",
    "\n",
    "header = [lx + ly + dz + 5*[0]]\n",
    "\n",
    "occ = [1]\n",
    "label = [0]\n",
    "charge = [0]"
   ]
  },
  {
   "cell_type": "code",
   "execution_count": 40,
   "id": "1b2b413d",
   "metadata": {},
   "outputs": [
    {
     "name": "stdout",
     "output_type": "stream",
     "text": [
      "Cell([92.625, 116.57000000000001, 70.30399375395407])\n"
     ]
    }
   ],
   "source": [
    "cif_cell *= (10,10,10)\n",
    "cif_cell = surface(cif_cell, indices=(1, 0, 0), layers=1, periodic=True)\n",
    "print(cif_cell.cell)"
   ]
  },
  {
   "cell_type": "code",
   "execution_count": 41,
   "id": "a030c008",
   "metadata": {},
   "outputs": [],
   "source": [
    "rotated_array = np.empty([len(cif_cell.positions),3])\n",
    "counter=0\n",
    "for xyz in cif_cell.positions:\n",
    "    #Atoms.euler_rotate(xyz, phi=1, psi=0.0, theta =0.0, center = (0,0,0))\n",
    "    axis=[4,4,1]\n",
    "    theta = -10\n",
    "    x=xyz[0]\n",
    "    y=xyz[1]\n",
    "    z=xyz[2]\n",
    "    v = [x, y, z]\n",
    "    matrix= rotation_matrix(axis, theta)\n",
    "    rotated = np.dot(matrix, v)\n",
    "\n",
    "    rotated_array[counter] = rotated\n",
    "    counter = counter+1\n",
    "\n",
    "#print(rotated_array)\n",
    "cif_cell.positions = rotated_array"
   ]
  },
  {
   "cell_type": "code",
   "execution_count": 42,
   "id": "dd59948b",
   "metadata": {},
   "outputs": [],
   "source": [
    "#now for the rotated array, 'cookie-cutter' out the coordinates such that the shape of the input is aligned with the beam axis\n",
    "from shapely.geometry import Point\n",
    "from shapely.geometry.polygon import Polygon\n",
    "\n",
    "#how large the cell we want to input into MULTEM is\n",
    "input_cell = 70\n",
    "#define the cell in the python shapely library\n",
    "polygon = Polygon([(0, 0, 0), (0, input_cell, 0), (0,0,input_cell), (input_cell,input_cell,0), (input_cell, input_cell, input_cell), (input_cell, 0, input_cell)])\n",
    "\n",
    "new_cell_array = np.empty([len(cif_cell.positions),3])\n",
    "#check if each point is in the desired cell.\n",
    "for i in range(len(rotated_array)):\n",
    "    shape = rotated_array[i]\n",
    "    x= shape[0]\n",
    "    y= shape[1]\n",
    "    z= shape[2]\n",
    "    point = Point(x, y, z)\n",
    "    #print(polygon.contains(point))\n",
    "    \n",
    "    #if the point is in the cell, write it into a new array\n",
    "    if polygon.contains(point)==True: \n",
    "        #print(x,y,z)\n",
    "        new_cell_array[i]=rotated_array[i]\n",
    "\n",
    "#print(new_cell_array)\n",
    "\n",
    "\n",
    "#bug in this code: when we rotate further and further, eventually the bounding boxes become totally irrelevant-\n",
    "#the whole specimen shifts out of these boxes"
   ]
  },
  {
   "cell_type": "code",
   "execution_count": 43,
   "id": "09302c9d",
   "metadata": {},
   "outputs": [],
   "source": [
    "cif_cell.positions= new_cell_array"
   ]
  },
  {
   "cell_type": "code",
   "execution_count": 44,
   "id": "2b46ac94",
   "metadata": {},
   "outputs": [
    {
     "name": "stdout",
     "output_type": "stream",
     "text": [
      "80001\n",
      "16680\n",
      "C:\\Users\\Sauron\\hl585\\multem_stable\\helen_code\n"
     ]
    }
   ],
   "source": [
    "rms3d =0.085\n",
    "if isinstance(rms3d, numbers.Number):\n",
    "    rms3d_list = [rms3d for Z in cif_cell.numbers]\n",
    "else:\n",
    "    rms3d_list = [rms3d[Z] for Z in cif_cell.numbers]\n",
    "\n",
    "data = [[n] + list(xyz) + [rms3d] + occ + label + charge for n, xyz, rms3d in zip(cif_cell.numbers, cif_cell.positions, rms3d_list)]\n",
    "total_with_blanks = np.array(header + data)\n",
    "print(len(total_with_blanks))\n",
    "#now get rid of the null coordinates (i.e. the atoms which fell outside of the unit cell shape)\n",
    "total= []\n",
    "\n",
    "for i in range(len(total_with_blanks)):\n",
    "    array = total_with_blanks[i]\n",
    "    if array[1]!=0 and array[2]!=0 and array[3]!=0:\n",
    "        total.append(array)\n",
    "print(len(total))\n",
    "#print(total)\n",
    "print(path)\n",
    "np.savetxt(path / (name + f\"{theta}_rotated.txt\"), total, fmt='%.8f', newline=\"\\n\", delimiter=\" \")"
   ]
  },
  {
   "cell_type": "code",
   "execution_count": null,
   "id": "53770038",
   "metadata": {},
   "outputs": [],
   "source": []
  },
  {
   "cell_type": "code",
   "execution_count": null,
   "id": "c8eb94ff",
   "metadata": {},
   "outputs": [],
   "source": []
  }
 ],
 "metadata": {
  "kernelspec": {
   "display_name": "Python 3 (ipykernel)",
   "language": "python",
   "name": "python3"
  },
  "language_info": {
   "codemirror_mode": {
    "name": "ipython",
    "version": 3
   },
   "file_extension": ".py",
   "mimetype": "text/x-python",
   "name": "python",
   "nbconvert_exporter": "python",
   "pygments_lexer": "ipython3",
   "version": "3.7.11"
  }
 },
 "nbformat": 4,
 "nbformat_minor": 5
}
