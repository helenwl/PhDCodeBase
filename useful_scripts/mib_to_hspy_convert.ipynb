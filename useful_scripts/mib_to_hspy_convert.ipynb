{
 "cells": [
  {
   "cell_type": "code",
   "execution_count": null,
   "id": "cb2aa469",
   "metadata": {},
   "outputs": [],
   "source": [
    "#this script converts .mib files into .hspy files and saves them onto the SSD on the computer"
   ]
  },
  {
   "cell_type": "code",
   "execution_count": 20,
   "id": "70f77ed5",
   "metadata": {},
   "outputs": [],
   "source": [
    "import pyxem as pxm\n",
    "import numpy as np\n",
    "import os\n",
    "import gc\n",
    "import hyperspy.api as hs\n",
    "from pyxem.signals.diffraction_vectors import DiffractionVectors\n",
    "import matplotlib as plt\n",
    "%matplotlib qt"
   ]
  },
  {
   "cell_type": "code",
   "execution_count": 57,
   "id": "bb407baa",
   "metadata": {},
   "outputs": [
    {
     "name": "stdout",
     "output_type": "stream",
     "text": [
      "D:\\hl585\\duncan_data\\em18488_milled_pharma_sed\\raw\\lactose\n"
     ]
    }
   ],
   "source": [
    "data_origin_folder = 'D:\\\\hl585\\\\duncan_data\\\\em18488_milled_pharma_sed\\\\raw\\\\lactose'\n",
    "\n",
    "print(data_origin_folder)\n"
   ]
  },
  {
   "cell_type": "code",
   "execution_count": 58,
   "id": "e4686013",
   "metadata": {
    "scrolled": true
   },
   "outputs": [
    {
     "name": "stdout",
     "output_type": "stream",
     "text": [
      "D:\\hl585\\duncan_data\\em18488_milled_pharma_sed\\raw\\lactose\n",
      "['D:\\\\hl585\\\\duncan_data\\\\em18488_milled_pharma_sed\\\\raw\\\\lactose\\\\20180616 202133\\\\lac_200kX_15cm_A3-55.mib'\n",
      " 'D:\\\\hl585\\\\duncan_data\\\\em18488_milled_pharma_sed\\\\raw\\\\lactose\\\\20180616 203044\\\\lac_200kX_15cm_A3-55.mib'\n",
      " 'D:\\\\hl585\\\\duncan_data\\\\em18488_milled_pharma_sed\\\\raw\\\\lactose\\\\20180616 203313\\\\lac_200kX_15cm_A3-55.mib'\n",
      " 'D:\\\\hl585\\\\duncan_data\\\\em18488_milled_pharma_sed\\\\raw\\\\lactose\\\\20180616 203920\\\\lac_200kX_15cm_A3-55.mib'\n",
      " 'D:\\\\hl585\\\\duncan_data\\\\em18488_milled_pharma_sed\\\\raw\\\\lactose\\\\20180616 204424\\\\lac_150kX_15cm_A3-55.mib'\n",
      " 'D:\\\\hl585\\\\duncan_data\\\\em18488_milled_pharma_sed\\\\raw\\\\lactose\\\\20180616 205013\\\\lac_150kX_15cm_A3-55.mib']\n"
     ]
    }
   ],
   "source": [
    "#get mib files\n",
    "filenames = []\n",
    "print(data_origin_folder)\n",
    "for root, dirs, files in os.walk(data_origin_folder):\n",
    "    for file in files:\n",
    "        if file.endswith(\".mib\"):\n",
    "             filenames.append(os.path.join(root, file))\n",
    "\n",
    "filenames = np.sort(filenames)\n",
    "\n",
    "print(filenames)"
   ]
  },
  {
   "cell_type": "code",
   "execution_count": 61,
   "id": "6e45015c",
   "metadata": {},
   "outputs": [
    {
     "name": "stdout",
     "output_type": "stream",
     "text": [
      "D:\\hl585\\duncan_data\\em18488_milled_pharma_sed\\raw\\lactose\\20180616 203044\\lac_200kX_15cm_A3-55.mib\n",
      "\\lactose\\20180616 203044\\\n",
      "lac_200kX_15cm_A3-55\n"
     ]
    }
   ],
   "source": [
    "#trying out for one file to get labelling correct\n",
    "fname = filenames[1]\n",
    "print(fname)\n",
    "fname_label = fname[50:-24] \n",
    "print(fname_label)\n",
    "fname_file = fname[75:-4]\n",
    "print(fname_file)"
   ]
  },
  {
   "cell_type": "code",
   "execution_count": 62,
   "id": "b1fb43e6",
   "metadata": {},
   "outputs": [
    {
     "name": "stdout",
     "output_type": "stream",
     "text": [
      "\\lactose\\20180616 202133\\\n",
      "lac_200kX_15cm_A3-55\n",
      "reshaping using flyback pixel\n",
      "\\lactose\\20180616 203044\\\n",
      "lac_200kX_15cm_A3-55\n",
      "reshaping using flyback pixel\n",
      "\\lactose\\20180616 203313\\\n",
      "lac_200kX_15cm_A3-55\n",
      "reshaping using flyback pixel\n",
      "\\lactose\\20180616 203920\\\n",
      "lac_200kX_15cm_A3-55\n",
      "reshaping using flyback pixel\n",
      "\\lactose\\20180616 204424\\\n",
      "lac_150kX_15cm_A3-55\n",
      "reshaping using flyback pixel\n",
      "\\lactose\\20180616 205013\\\n",
      "lac_150kX_15cm_A3-55\n",
      "reshaping using flyback pixel\n"
     ]
    }
   ],
   "source": [
    "for fname in filenames:\n",
    "    fname_label = fname[50:-24] \n",
    "    print(fname_label)\n",
    "    fname_file = fname[75:-4]\n",
    "    print(fname_file)\n",
    "    \n",
    "    destination_folder = 'D:\\hl585\\duncan_data\\em18488_milled_pharma_sed\\helen_processed' + fname_label\n",
    "    if not os.path.exists(destination_folder):\n",
    "        os.makedirs(destination_folder)\n",
    "        \n",
    "    dp = pxm.load_mib(fname, reshape=True)\n",
    "    dp.save( destination_folder + fname_file + '.hspy')"
   ]
  },
  {
   "cell_type": "code",
   "execution_count": null,
   "id": "8ea57033",
   "metadata": {},
   "outputs": [],
   "source": []
  },
  {
   "cell_type": "code",
   "execution_count": null,
   "id": "d549922c",
   "metadata": {},
   "outputs": [],
   "source": []
  },
  {
   "cell_type": "code",
   "execution_count": null,
   "id": "3837b1e4",
   "metadata": {},
   "outputs": [],
   "source": []
  },
  {
   "cell_type": "code",
   "execution_count": null,
   "id": "4986bc48",
   "metadata": {},
   "outputs": [],
   "source": []
  }
 ],
 "metadata": {
  "kernelspec": {
   "display_name": "Python 3 (ipykernel)",
   "language": "python",
   "name": "python3"
  },
  "language_info": {
   "codemirror_mode": {
    "name": "ipython",
    "version": 3
   },
   "file_extension": ".py",
   "mimetype": "text/x-python",
   "name": "python",
   "nbconvert_exporter": "python",
   "pygments_lexer": "ipython3",
   "version": "3.7.11"
  }
 },
 "nbformat": 4,
 "nbformat_minor": 5
}
