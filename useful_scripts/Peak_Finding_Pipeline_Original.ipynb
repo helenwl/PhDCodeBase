{
 "cells": [
  {
   "cell_type": "code",
   "execution_count": 1,
   "id": "c6631b7d",
   "metadata": {},
   "outputs": [
    {
     "name": "stderr",
     "output_type": "stream",
     "text": [
      "WARNING:hyperspy.api:The traitsui GUI elements are not available, probably because the hyperspy_gui_traitsui package is not installed.\n",
      "WARNING:silx.opencl.common:Unable to import pyOpenCl. Please install it from: https://pypi.org/project/pyopencl\n"
     ]
    }
   ],
   "source": [
    "import pyxem as pxm\n",
    "import numpy as np\n",
    "import os\n",
    "import gc\n",
    "from pyxem.signals.diffraction_vectors import DiffractionVectors\n",
    "import matplotlib as plt\n",
    "%matplotlib qt"
   ]
  },
  {
   "cell_type": "code",
   "execution_count": 2,
   "id": "3aff5ea0",
   "metadata": {},
   "outputs": [
    {
     "name": "stdout",
     "output_type": "stream",
     "text": [
      "F:\\em18488_milled_pharma_sed\\raw\\paracetamol\n",
      "E:\\hl585\\duncan_data_processed\\em18488_milled_pharma_sed\\paracetamol\\\n"
     ]
    }
   ],
   "source": [
    "data_origin_folder = 'F:\\\\em18488_milled_pharma_sed\\\\raw\\\\paracetamol'\n",
    "\n",
    "destination_folder = \"E:\\\\hl585\\\\duncan_data_processed\\\\em18488_milled_pharma_sed\\\\paracetamol\\\\\"\n",
    "print(data_origin_folder)\n",
    "print(destination_folder)"
   ]
  },
  {
   "cell_type": "code",
   "execution_count": 4,
   "id": "8b55c054",
   "metadata": {},
   "outputs": [
    {
     "name": "stdout",
     "output_type": "stream",
     "text": [
      "F:\\em18488_milled_pharma_sed\\raw\\paracetamol\n",
      "['F:\\\\em18488_milled_pharma_sed\\\\raw\\\\paracetamol\\\\20180616 160517\\\\pca_200kX_15cm_A3-55.mib'\n",
      " 'F:\\\\em18488_milled_pharma_sed\\\\raw\\\\paracetamol\\\\20180616 160750\\\\pca_200kX_15cm_A3-55.mib'\n",
      " 'F:\\\\em18488_milled_pharma_sed\\\\raw\\\\paracetamol\\\\20180616 160952\\\\pca_200kX_15cm_A3-55.mib'\n",
      " 'F:\\\\em18488_milled_pharma_sed\\\\raw\\\\paracetamol\\\\20180616 161158\\\\pca_200kX_15cm_A3-55.mib'\n",
      " 'F:\\\\em18488_milled_pharma_sed\\\\raw\\\\paracetamol\\\\20180616 161412\\\\pca_200kX_15cm_A3-55.mib'\n",
      " 'F:\\\\em18488_milled_pharma_sed\\\\raw\\\\paracetamol\\\\20180616 161800\\\\pca_200kX_15cm_A3-55.mib'\n",
      " 'F:\\\\em18488_milled_pharma_sed\\\\raw\\\\paracetamol\\\\20180616 162001\\\\pca_200kX_15cm_A3-55.mib'\n",
      " 'F:\\\\em18488_milled_pharma_sed\\\\raw\\\\paracetamol\\\\20180616 172906\\\\pca_200kX_15cm_A3-55.mib'\n",
      " 'F:\\\\em18488_milled_pharma_sed\\\\raw\\\\paracetamol\\\\20180616 173218\\\\pca_200kX_15cm_A3-55.mib'\n",
      " 'F:\\\\em18488_milled_pharma_sed\\\\raw\\\\paracetamol\\\\20180616 173505\\\\pca_200kX_15cm_A3-55.mib'\n",
      " 'F:\\\\em18488_milled_pharma_sed\\\\raw\\\\paracetamol\\\\20180616 173655\\\\pca_200kX_15cm_A3-55.mib'\n",
      " 'F:\\\\em18488_milled_pharma_sed\\\\raw\\\\paracetamol\\\\20180616 173915\\\\pca_200kX_15cm_A3-55.mib'\n",
      " 'F:\\\\em18488_milled_pharma_sed\\\\raw\\\\paracetamol\\\\20180616 174127\\\\pca_200kX_15cm_A3-55.mib'\n",
      " 'F:\\\\em18488_milled_pharma_sed\\\\raw\\\\paracetamol\\\\20180616 174319\\\\pca_200kX_15cm_A3-55.mib'\n",
      " 'F:\\\\em18488_milled_pharma_sed\\\\raw\\\\paracetamol\\\\20180616 174513\\\\pca_200kX_15cm_A3-55.mib'\n",
      " 'F:\\\\em18488_milled_pharma_sed\\\\raw\\\\paracetamol\\\\20180616 174714\\\\pca_200kX_15cm_A3-55.mib'\n",
      " 'F:\\\\em18488_milled_pharma_sed\\\\raw\\\\paracetamol\\\\20180616 174932\\\\pca_200kX_15cm_A3-55.mib'\n",
      " 'F:\\\\em18488_milled_pharma_sed\\\\raw\\\\paracetamol\\\\20180616 175120\\\\pca_200kX_15cm_A3-55.mib'\n",
      " 'F:\\\\em18488_milled_pharma_sed\\\\raw\\\\paracetamol\\\\20180616 175329\\\\pca_200kX_15cm_A3-55.mib'\n",
      " 'F:\\\\em18488_milled_pharma_sed\\\\raw\\\\paracetamol\\\\20180616 175715\\\\pca_200kX_15cm_A3-55.mib']\n"
     ]
    }
   ],
   "source": [
    "filenames = []\n",
    "print(data_origin_folder)\n",
    "for root, dirs, files in os.walk(data_origin_folder):\n",
    "    for file in files:\n",
    "        if file.endswith(\".mib\"):\n",
    "             filenames.append(os.path.join(root, file))\n",
    "\n",
    "filenames = np.sort(filenames)\n",
    "\n",
    "print(filenames)"
   ]
  },
  {
   "cell_type": "code",
   "execution_count": 5,
   "id": "6e2f41ef",
   "metadata": {},
   "outputs": [
    {
     "name": "stdout",
     "output_type": "stream",
     "text": [
      "\n",
      "F:\\em18488_milled_pharma_sed\\raw\\paracetamol\\20180616 161800\\pca_200kX_15cm_A3-55.mib\n"
     ]
    }
   ],
   "source": [
    "#just to figure out how to label the string when saving images\n",
    "fname = filenames[5]\n",
    "print(file[47:-4])\n",
    "print(fname)\n",
    "fname_label = fname[44:-5]"
   ]
  },
  {
   "cell_type": "code",
   "execution_count": 6,
   "id": "4546e9e3",
   "metadata": {},
   "outputs": [
    {
     "name": "stdout",
     "output_type": "stream",
     "text": [
      "reshaping using flyback pixel\n",
      "[########################################] | 100% Completed | 12min 48.3s\n",
      "finished dp.compute\n"
     ]
    },
    {
     "ename": "NotImplementedError",
     "evalue": "The method `find_peaks_stat` is not implemented. See documentation for available implementations.",
     "output_type": "error",
     "traceback": [
      "\u001b[1;31m---------------------------------------------------------------------------\u001b[0m",
      "\u001b[1;31mNotImplementedError\u001b[0m                       Traceback (most recent call last)",
      "\u001b[1;32m~\\AppData\\Local\\Temp/ipykernel_9156/2203592206.py\u001b[0m in \u001b[0;36m<module>\u001b[1;34m\u001b[0m\n\u001b[0;32m     12\u001b[0m                     \u001b[0mthreshold\u001b[0m\u001b[1;33m=\u001b[0m\u001b[1;36m0.04\u001b[0m\u001b[1;33m,\u001b[0m\u001b[1;33m\u001b[0m\u001b[1;33m\u001b[0m\u001b[0m\n\u001b[0;32m     13\u001b[0m                     \u001b[0moverlap\u001b[0m\u001b[1;33m=\u001b[0m\u001b[1;36m0.5\u001b[0m\u001b[1;33m,\u001b[0m\u001b[1;33m\u001b[0m\u001b[1;33m\u001b[0m\u001b[0m\n\u001b[1;32m---> 14\u001b[1;33m                     \u001b[0mshow_progressbar\u001b[0m\u001b[1;33m=\u001b[0m\u001b[1;32mFalse\u001b[0m\u001b[1;31m#,\u001b[0m\u001b[1;33m\u001b[0m\u001b[1;33m\u001b[0m\u001b[0m\n\u001b[0m\u001b[0;32m     15\u001b[0m                    \u001b[1;31m#interactive=False\u001b[0m\u001b[1;33m\u001b[0m\u001b[1;33m\u001b[0m\u001b[1;33m\u001b[0m\u001b[0m\n\u001b[0;32m     16\u001b[0m                    )\n",
      "\u001b[1;32m~\\anaconda3\\envs\\peakfinder\\lib\\site-packages\\hyperspy\\_signals\\signal2d.py\u001b[0m in \u001b[0;36mfind_peaks\u001b[1;34m(self, method, interactive, current_index, show_progressbar, parallel, max_workers, display, toolkit, **kwargs)\u001b[0m\n\u001b[0;32m    912\u001b[0m             \u001b[0mmethod_func\u001b[0m \u001b[1;33m=\u001b[0m \u001b[0mmethod_dict\u001b[0m\u001b[1;33m[\u001b[0m\u001b[0mmethod\u001b[0m\u001b[1;33m]\u001b[0m\u001b[1;33m\u001b[0m\u001b[1;33m\u001b[0m\u001b[0m\n\u001b[0;32m    913\u001b[0m         \u001b[1;32melse\u001b[0m\u001b[1;33m:\u001b[0m\u001b[1;33m\u001b[0m\u001b[1;33m\u001b[0m\u001b[0m\n\u001b[1;32m--> 914\u001b[1;33m             raise NotImplementedError(f\"The method `{method}` is not \"\n\u001b[0m\u001b[0;32m    915\u001b[0m                                       \u001b[1;34m\"implemented. See documentation for \"\u001b[0m\u001b[1;33m\u001b[0m\u001b[1;33m\u001b[0m\u001b[0m\n\u001b[0;32m    916\u001b[0m                                       \"available implementations.\")\n",
      "\u001b[1;31mNotImplementedError\u001b[0m: The method `find_peaks_stat` is not implemented. See documentation for available implementations."
     ]
    }
   ],
   "source": [
    "    # Load the data\n",
    "    dp = pxm.load_mib(fname, reshape=True)\n",
    "    dp.compute()\n",
    "    print('finished dp.compute')\n",
    "    #dp.plot(cmap='inferno', vmax=10)\n",
    "\n",
    "    # Find peaks and form diffracting pixels map\n",
    "    pks = dp.find_peaks(method='find_peaks_stat',\n",
    "                        min_sigma=1.,\n",
    "                        max_sigma=5.,\n",
    "                        sigma_ratio=2.5,\n",
    "                        threshold=0.04,\n",
    "                        overlap=0.5,\n",
    "                        show_progressbar=False#,\n",
    "                       #interactive=False\n",
    "                       )\n",
    "    print(pks)\n",
    "    print('peaks found')\n"
   ]
  },
  {
   "cell_type": "code",
   "execution_count": 78,
   "id": "a9882701",
   "metadata": {},
   "outputs": [
    {
     "ename": "IndexError",
     "evalue": "index 126 is out of bounds for axis 0 with size 1",
     "output_type": "error",
     "traceback": [
      "\u001b[1;31m---------------------------------------------------------------------------\u001b[0m",
      "\u001b[1;31mIndexError\u001b[0m                                Traceback (most recent call last)",
      "\u001b[1;32m~\\AppData\\Local\\Temp/ipykernel_19208/1445694389.py\u001b[0m in \u001b[0;36m<module>\u001b[1;34m\u001b[0m\n\u001b[1;32m----> 1\u001b[1;33m \u001b[0mpks\u001b[0m\u001b[1;33m.\u001b[0m\u001b[0minav\u001b[0m\u001b[1;33m[\u001b[0m\u001b[1;36m129\u001b[0m\u001b[1;33m,\u001b[0m\u001b[1;36m126\u001b[0m\u001b[1;33m]\u001b[0m\u001b[1;33m.\u001b[0m\u001b[0mdata\u001b[0m\u001b[1;33m\u001b[0m\u001b[1;33m\u001b[0m\u001b[0m\n\u001b[0m",
      "\u001b[1;32m~\\anaconda3\\envs\\peakfinder\\lib\\site-packages\\hyperspy\\misc\\slicing.py\u001b[0m in \u001b[0;36m__getitem__\u001b[1;34m(self, slices, out)\u001b[0m\n\u001b[0;32m    191\u001b[0m \u001b[1;33m\u001b[0m\u001b[0m\n\u001b[0;32m    192\u001b[0m     \u001b[1;32mdef\u001b[0m \u001b[0m__getitem__\u001b[0m\u001b[1;33m(\u001b[0m\u001b[0mself\u001b[0m\u001b[1;33m,\u001b[0m \u001b[0mslices\u001b[0m\u001b[1;33m,\u001b[0m \u001b[0mout\u001b[0m\u001b[1;33m=\u001b[0m\u001b[1;32mNone\u001b[0m\u001b[1;33m)\u001b[0m\u001b[1;33m:\u001b[0m\u001b[1;33m\u001b[0m\u001b[1;33m\u001b[0m\u001b[0m\n\u001b[1;32m--> 193\u001b[1;33m         \u001b[1;32mreturn\u001b[0m \u001b[0mself\u001b[0m\u001b[1;33m.\u001b[0m\u001b[0mobj\u001b[0m\u001b[1;33m.\u001b[0m\u001b[0m_slicer\u001b[0m\u001b[1;33m(\u001b[0m\u001b[0mslices\u001b[0m\u001b[1;33m,\u001b[0m \u001b[0mself\u001b[0m\u001b[1;33m.\u001b[0m\u001b[0misNavigation\u001b[0m\u001b[1;33m,\u001b[0m \u001b[0mout\u001b[0m\u001b[1;33m=\u001b[0m\u001b[0mout\u001b[0m\u001b[1;33m)\u001b[0m\u001b[1;33m\u001b[0m\u001b[1;33m\u001b[0m\u001b[0m\n\u001b[0m\u001b[0;32m    194\u001b[0m \u001b[1;33m\u001b[0m\u001b[0m\n\u001b[0;32m    195\u001b[0m \u001b[1;33m\u001b[0m\u001b[0m\n",
      "\u001b[1;32m~\\anaconda3\\envs\\peakfinder\\lib\\site-packages\\hyperspy\\misc\\slicing.py\u001b[0m in \u001b[0;36m_slicer\u001b[1;34m(self, slices, isNavigation, out)\u001b[0m\n\u001b[0;32m    275\u001b[0m     \u001b[1;32mdef\u001b[0m \u001b[0m_slicer\u001b[0m\u001b[1;33m(\u001b[0m\u001b[0mself\u001b[0m\u001b[1;33m,\u001b[0m \u001b[0mslices\u001b[0m\u001b[1;33m,\u001b[0m \u001b[0misNavigation\u001b[0m\u001b[1;33m=\u001b[0m\u001b[1;32mNone\u001b[0m\u001b[1;33m,\u001b[0m \u001b[0mout\u001b[0m\u001b[1;33m=\u001b[0m\u001b[1;32mNone\u001b[0m\u001b[1;33m)\u001b[0m\u001b[1;33m:\u001b[0m\u001b[1;33m\u001b[0m\u001b[1;33m\u001b[0m\u001b[0m\n\u001b[0;32m    276\u001b[0m         \u001b[0marray_slices\u001b[0m \u001b[1;33m=\u001b[0m \u001b[0mself\u001b[0m\u001b[1;33m.\u001b[0m\u001b[0m_get_array_slices\u001b[0m\u001b[1;33m(\u001b[0m\u001b[0mslices\u001b[0m\u001b[1;33m,\u001b[0m \u001b[0misNavigation\u001b[0m\u001b[1;33m)\u001b[0m\u001b[1;33m\u001b[0m\u001b[1;33m\u001b[0m\u001b[0m\n\u001b[1;32m--> 277\u001b[1;33m         \u001b[0mnew_data\u001b[0m \u001b[1;33m=\u001b[0m \u001b[0mself\u001b[0m\u001b[1;33m.\u001b[0m\u001b[0mdata\u001b[0m\u001b[1;33m[\u001b[0m\u001b[0marray_slices\u001b[0m\u001b[1;33m]\u001b[0m\u001b[1;33m\u001b[0m\u001b[1;33m\u001b[0m\u001b[0m\n\u001b[0m\u001b[0;32m    278\u001b[0m         \u001b[1;32mif\u001b[0m \u001b[0mnew_data\u001b[0m\u001b[1;33m.\u001b[0m\u001b[0msize\u001b[0m \u001b[1;33m==\u001b[0m \u001b[1;36m1\u001b[0m \u001b[1;32mand\u001b[0m \u001b[0mnew_data\u001b[0m\u001b[1;33m.\u001b[0m\u001b[0mdtype\u001b[0m \u001b[1;32mis\u001b[0m \u001b[0mnp\u001b[0m\u001b[1;33m.\u001b[0m\u001b[0mdtype\u001b[0m\u001b[1;33m(\u001b[0m\u001b[1;34m'O'\u001b[0m\u001b[1;33m)\u001b[0m\u001b[1;33m:\u001b[0m\u001b[1;33m\u001b[0m\u001b[1;33m\u001b[0m\u001b[0m\n\u001b[0;32m    279\u001b[0m             \u001b[1;32mif\u001b[0m \u001b[0misinstance\u001b[0m\u001b[1;33m(\u001b[0m\u001b[0mnew_data\u001b[0m\u001b[1;33m[\u001b[0m\u001b[1;36m0\u001b[0m\u001b[1;33m]\u001b[0m\u001b[1;33m,\u001b[0m \u001b[1;33m(\u001b[0m\u001b[0mnp\u001b[0m\u001b[1;33m.\u001b[0m\u001b[0mndarray\u001b[0m\u001b[1;33m,\u001b[0m \u001b[0mdArray\u001b[0m\u001b[1;33m)\u001b[0m\u001b[1;33m)\u001b[0m\u001b[1;33m:\u001b[0m\u001b[1;33m\u001b[0m\u001b[1;33m\u001b[0m\u001b[0m\n",
      "\u001b[1;31mIndexError\u001b[0m: index 126 is out of bounds for axis 0 with size 1"
     ]
    }
   ],
   "source": [
    "pks.inav[129,126].data"
   ]
  },
  {
   "cell_type": "code",
   "execution_count": 65,
   "id": "583296e8",
   "metadata": {},
   "outputs": [
    {
     "name": "stderr",
     "output_type": "stream",
     "text": [
      "WARNING:hyperspy.signal:The function you applied does not take into account the difference of units and of scales in-between axes.\n"
     ]
    },
    {
     "data": {
      "application/vnd.jupyter.widget-view+json": {
       "model_id": "2795e49e908442259d8353b419b94ffa",
       "version_major": 2,
       "version_minor": 0
      },
      "text/plain": [
       "  0%|          | 0/64770 [00:00<?, ?it/s]"
      ]
     },
     "metadata": {},
     "output_type": "display_data"
    }
   ],
   "source": [
    "pks= DiffractionVectors.from_peaks(pks, center=(126,126), calibration=0.08)"
   ]
  },
  {
   "cell_type": "code",
   "execution_count": 69,
   "id": "46a292d1",
   "metadata": {},
   "outputs": [
    {
     "name": "stderr",
     "output_type": "stream",
     "text": [
      "WARNING:hyperspy.signal:The function you applied does not take into account the difference of units and of scales in-between axes.\n"
     ]
    },
    {
     "data": {
      "application/vnd.jupyter.widget-view+json": {
       "model_id": "b5383e79938a432daefd30a24c8d5726",
       "version_major": 2,
       "version_minor": 0
      },
      "text/plain": [
       "  0%|          | 0/64770 [00:00<?, ?it/s]"
      ]
     },
     "metadata": {},
     "output_type": "display_data"
    },
    {
     "name": "stderr",
     "output_type": "stream",
     "text": [
      "WARNING:hyperspy.io:`signal_type='signal2d'` not understood. See `hs.print_known_signal_types()` for a list of installed signal types or https://github.com/hyperspy/hyperspy-extensions-list for the list of all hyperspy extensions providing signals.\n",
      "WARNING:hyperspy.io:`signal_type='signal2d'` not understood. See `hs.print_known_signal_types()` for a list of installed signal types or https://github.com/hyperspy/hyperspy-extensions-list for the list of all hyperspy extensions providing signals.\n",
      "WARNING:imageio:Lossy conversion from float32 to uint8. Range [1.0, 15.0]. Convert image to uint8 prior to saving to suppress this warning.\n"
     ]
    },
    {
     "name": "stdout",
     "output_type": "stream",
     "text": [
      "got diffracting pixels map\n",
      "diffraction map saved\n"
     ]
    }
   ],
   "source": [
    "    xim = pks.get_diffracting_pixels_map(binary=False)\n",
    "    print('got diffracting pixels map')\n",
    "    xim.change_dtype('float32')\n",
    "    #xim.save(fname[:-5] + '_xim.tif')\n",
    "    xim.save(destination_folder + fname_label+ '_xim.png')\n",
    "    print('diffraction map saved')"
   ]
  },
  {
   "cell_type": "code",
   "execution_count": null,
   "id": "99af6094",
   "metadata": {},
   "outputs": [],
   "source": [
    "\n",
    "    # Calculate average diffraction\n",
    "    dpeg = dp.mean((0,1))\n",
    "    dpeg.change_dtype('float32')\n",
    "    #dpeg.save(fname[:-5] + '_dpeg.tif')\n",
    "    dpeg.save(destination_folder + fname_label+ '_dpeg.tif')\n",
    "    print('diffraction pattern saved')\n"
   ]
  },
  {
   "cell_type": "code",
   "execution_count": 74,
   "id": "aca55c58",
   "metadata": {},
   "outputs": [
    {
     "name": "stderr",
     "output_type": "stream",
     "text": [
      "WARNING:imageio:Lossy conversion from float32 to uint8. Range [50.0, 28276.0]. Convert image to uint8 prior to saving to suppress this warning.\n"
     ]
    },
    {
     "name": "stdout",
     "output_type": "stream",
     "text": [
      "got sum intensity image\n"
     ]
    },
    {
     "data": {
      "text/plain": [
       "12304"
      ]
     },
     "execution_count": 74,
     "metadata": {},
     "output_type": "execute_result"
    }
   ],
   "source": [
    "    # Calculate sum image\n",
    "    mask = np.invert(dp.get_direct_beam_mask(25))\n",
    "    dp = dp * mask\n",
    "    dp = pxm.signals.ElectronDiffraction2D(dp)\n",
    "    im = dp.sum((2,3))\n",
    "    im = im.as_signal2D((0,1))\n",
    "    im.change_dtype('float32')\n",
    "    #im.save(fname[:-5] + '_im.tif')\n",
    "    im.save(destination_folder + fname_label+ '_im.png')\n",
    "    print('got sum intensity image')\n",
    "\n",
    "    gc.collect()"
   ]
  },
  {
   "cell_type": "code",
   "execution_count": null,
   "id": "96186458",
   "metadata": {},
   "outputs": [],
   "source": []
  },
  {
   "cell_type": "code",
   "execution_count": null,
   "id": "6d70126f",
   "metadata": {},
   "outputs": [],
   "source": []
  },
  {
   "cell_type": "code",
   "execution_count": null,
   "id": "f44b0e0e",
   "metadata": {},
   "outputs": [],
   "source": []
  }
 ],
 "metadata": {
  "kernelspec": {
   "display_name": "Python 3 (ipykernel)",
   "language": "python",
   "name": "python3"
  },
  "language_info": {
   "codemirror_mode": {
    "name": "ipython",
    "version": 3
   },
   "file_extension": ".py",
   "mimetype": "text/x-python",
   "name": "python",
   "nbconvert_exporter": "python",
   "pygments_lexer": "ipython3",
   "version": "3.7.11"
  }
 },
 "nbformat": 4,
 "nbformat_minor": 5
}
